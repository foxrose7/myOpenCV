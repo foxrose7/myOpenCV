{
 "cells": [
  {
   "cell_type": "markdown",
   "source": [
    "### 1.4. OpenCV Python 설치\n",
    "- cmd + , 를 눌러서 환경 설정으로 들어간다.\n",
    "- Project: ProjectName->Project Interpriter 메뉴에서 + 버튼을 클릭하여\n",
    "  OpenCV, jupyter, numpy를 설치한다."
   ],
   "metadata": {
    "collapsed": false,
    "pycharm": {
     "name": "#%% md\n"
    }
   }
  },
  {
   "cell_type": "code",
   "execution_count": 3,
   "outputs": [
    {
     "data": {
      "text/plain": "'4.5.1'"
     },
     "execution_count": 3,
     "metadata": {},
     "output_type": "execute_result"
    }
   ],
   "source": [
    "# Open CV 버전을 확인한다.\n",
    "import cv2\n",
    "cv2.__version__"
   ],
   "metadata": {
    "collapsed": false,
    "pycharm": {
     "name": "#%%\n"
    }
   }
  },
  {
   "cell_type": "markdown",
   "source": [
    "### 예제 소스 다운로드\n",
    "https://github.com/dltpdn/insightbook.opencv_project_python\n"
   ],
   "metadata": {
    "collapsed": false,
    "pycharm": {
     "name": "#%% md\n"
    }
   }
  }
 ],
 "metadata": {
  "kernelspec": {
   "display_name": "Python 3",
   "language": "python",
   "name": "python3"
  },
  "language_info": {
   "codemirror_mode": {
    "name": "ipython",
    "version": 2
   },
   "file_extension": ".py",
   "mimetype": "text/x-python",
   "name": "python",
   "nbconvert_exporter": "python",
   "pygments_lexer": "ipython2",
   "version": "2.7.6"
  }
 },
 "nbformat": 4,
 "nbformat_minor": 0
}