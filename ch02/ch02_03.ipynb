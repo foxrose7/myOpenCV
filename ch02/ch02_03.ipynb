{
 "cells": [
  {
   "cell_type": "markdown",
   "metadata": {
    "collapsed": true,
    "pycharm": {
     "name": "#%% md\n"
    }
   },
   "source": [
    "### 2.2. 그림 그리기\n",
    "그리기 예제를 진행하기 위해서는 그림판 역할을 하는 이미지가 필요하다.\n",
    "그림판은 다음과 같은 코드로 생성할 수 있다.\n"
   ]
  },
  {
   "cell_type": "code",
   "execution_count": 1,
   "outputs": [
    {
     "data": {
      "text/plain": "True"
     },
     "execution_count": 1,
     "metadata": {},
     "output_type": "execute_result"
    }
   ],
   "source": [
    "import numpy as np\n",
    "import cv2\n",
    "\n",
    "img = np.full((500, 500, 3), 255, dtype=np.uint8)\n",
    "cv2.imwrite('../images/blank_500.jpeg', img)"
   ],
   "metadata": {
    "collapsed": false,
    "pycharm": {
     "name": "#%%\n"
    }
   }
  },
  {
   "cell_type": "markdown",
   "source": [
    "#### 2.2.1. 직선 그리기\n",
    "이미지에 직선을 그린는 함수는 cv2.line() 입니다.\n",
    "- cv2.line(img, start, end, color [, thickness, lineType]): 직선 그리기\n",
    "    - img: 그림 그릴 대상 이미지\n",
    "    - start: 선 시작 지점 좌표(x, y)\n",
    "    - end: 선 끝 지점 좌표(x, y)\n",
    "    - color: 선 색사야(Blue, Green, Red), 0~255 # 일반적으로 웹에서 사용하는 RGB의 반대\n",
    "    - thickness=1 : 선두께\n",
    "    - lineType: 선그리기 형식\n",
    "        - cv2.LINE_4 : 4개 연결 선 알고리즘\n",
    "        - cv2.LINE_8 : 8개 연결 선 알고리즘\n",
    "        - cv2.,LINE_AA : 안티에일리어싱"
   ],
   "metadata": {
    "collapsed": false,
    "pycharm": {
     "name": "#%% md\n"
    }
   }
  },
  {
   "cell_type": "code",
   "execution_count": 2,
   "outputs": [
    {
     "data": {
      "text/plain": "-1"
     },
     "execution_count": 2,
     "metadata": {},
     "output_type": "execute_result"
    }
   ],
   "source": [
    "# [예제 2-10] 다양한 선 그리기 page 39\n",
    "import cv2\n",
    "\n",
    "img = cv2.imread('../images/blank_500.jpeg')\n",
    "\n",
    "cv2.line(img, (50, 50), (150, 50), (255, 0, 0)) # 파란색 1픽셀 선\n",
    "cv2.line(img, (200, 50), (300, 50), (0, 255, 0)) # 파란색 1픽셀 선\n",
    "cv2.line(img, (350, 50), (450, 50), (0, 0, 255)) # 파란색 1픽셀 선\n",
    "\n",
    "\n",
    "# 하늘색\n",
    "cv2.line(img, (100, 100), (400, 100), (255, 255, 0), 10)\n",
    "cv2.line(img, (100, 150), (400, 150), (255, 0, 255), 10)\n",
    "\n",
    "# 4연결선\n",
    "cv2.line(img, (100, 350), (400, 400), (0, 0, 255), 20, cv2.LINE_4)\n",
    "cv2.line(img, (100, 400), (400, 450), (0, 0, 255), 20, cv2.LINE_8)\n",
    "cv2.line(img, (100, 450), (400, 500), (0, 0, 255), 20, cv2.LINE_AA)\n",
    "cv2.imshow('lines', img) # 파란색 1 픽셀 선\n",
    "cv2.waitKey(0)\n",
    "cv2.destroyAllWindows()\n",
    "cv2.waitKey(1)"
   ],
   "metadata": {
    "collapsed": false,
    "pycharm": {
     "name": "#%%\n"
    }
   }
  },
  {
   "cell_type": "markdown",
   "source": [
    "![선 그리기](../images/lines.png)"
   ],
   "metadata": {
    "collapsed": false,
    "pycharm": {
     "name": "#%% md\n"
    }
   }
  },
  {
   "cell_type": "markdown",
   "source": [
    "#### 2.2.2. 사각형 그리기\n",
    "사각형을 그리는 함수는 cv2.retangle() 입니다.\n",
    "\n",
    "- cv2.rectangle(img, start, end, color[, thickness, linetype]) : 사각형 그리기\n",
    "- cv2.rectangle()함수는 cv2.line() 함수와 사용법이 거의 비슷합니다.\n"
   ],
   "metadata": {
    "collapsed": false,
    "pycharm": {
     "name": "#%% md\n"
    }
   }
  },
  {
   "cell_type": "code",
   "execution_count": 3,
   "outputs": [
    {
     "data": {
      "text/plain": "-1"
     },
     "execution_count": 3,
     "metadata": {},
     "output_type": "execute_result"
    }
   ],
   "source": [
    "# [예제 2-11] 사각형 그리기\n",
    "\n",
    "import cv2\n",
    "\n",
    "img = cv2.imread('../images/blank_500.jpeg')\n",
    "\n",
    "cv2.rectangle(img, (50, 50), (150, 150), (255, 0, 0), 1)\n",
    "cv2.rectangle(img, (100, 100), (300, 300), (0, 255, 0), 10)\n",
    "cv2.rectangle(img, (200, 200), (450, 400), (0, 0, 255), -1)\n",
    "\n",
    "cv2.imshow('rectangle', img)\n",
    "cv2.waitKey(0)\n",
    "cv2.destroyAllWindows()\n",
    "cv2.waitKey(1)"
   ],
   "metadata": {
    "collapsed": false,
    "pycharm": {
     "name": "#%%\n"
    }
   }
  },
  {
   "cell_type": "markdown",
   "source": [
    "![사각형그리기](../images/rectangle.png)\n",
    "\n"
   ],
   "metadata": {
    "collapsed": false
   }
  },
  {
   "cell_type": "markdown",
   "source": [
    "#### 2.2.3. 다각형 그리기\n",
    "다각형을 그리는 함수는 cv2.polylines()입니다.\n",
    "\n",
    "- cv2.polylines(img, points, isClosed, color[, thicknessm lineType]):다각형 그리기\n",
    "    - points : 꼭지점 좌표, NumPy 배열 리스트\n",
    "        - NumPy의 배열: pts1 = np.array([[100, 100], [100, 200], [200, 200]])\n",
    "        - NumPy의 배열 리스트: l_pts1 = [pts1]\n",
    "    - 나머지는 cv2.line()과 동일"
   ],
   "metadata": {
    "collapsed": false,
    "pycharm": {
     "name": "#%% md\n"
    }
   }
  },
  {
   "cell_type": "code",
   "execution_count": 4,
   "outputs": [
    {
     "data": {
      "text/plain": "-1"
     },
     "execution_count": 4,
     "metadata": {},
     "output_type": "execute_result"
    }
   ],
   "source": [
    "# [예제 2-12] 다각형 그리기\n",
    "import cv2\n",
    "import numpy as np\n",
    "\n",
    "img = cv2.imread('../images/blank_500.jpeg')\n",
    "\n",
    "# NumPy 배열로 좌표 생성\n",
    "pts1 = np.array([[50, 50], [150, 150], [100, 140], [200, 240]])\n",
    "pts2 = np.array([[350, 50], [250, 200], [450, 200]])\n",
    "pts3 = np.array([[150, 300], [50, 450], [250, 450]], dtype=np.int32)\n",
    "\n",
    "# 5각형 좌표\n",
    "pts4 = np.array([[350, 250], [450, 350], [400, 450], [300, 450], [250, 350]], dtype=np.int32)\n",
    "\n",
    "# 다각형 그리기\n",
    "cv2.polylines(img, [pts1], False, (255, 0, 0)) # 번개모양 선 그리기\n",
    "cv2.polylines(img, [pts2], False, (0, 0, 0), 10) # 3각형 열린선 그리기\n",
    "cv2.polylines(img, [pts3], True, (0, 0, 255), 10) # 3각형 닫힌 도형 그리기\n",
    "cv2.polylines(img, [pts4], True, (0, 0, 0)) # 3각형 닫힌 도형 그리기\n",
    "cv2.imshow('ployline', img)\n",
    "cv2.waitKey(0)\n",
    "cv2.destroyAllWindows()\n",
    "cv2.waitKey(1)"
   ],
   "metadata": {
    "collapsed": false,
    "pycharm": {
     "name": "#%%\n"
    }
   }
  },
  {
   "cell_type": "markdown",
   "source": [
    "![다각형 그리기](../images/polyline.png)\n"
   ],
   "metadata": {
    "collapsed": false,
    "pycharm": {
     "name": "#%% md\n"
    }
   }
  },
  {
   "cell_type": "markdown",
   "source": [
    "#### 2.2.5. 글씨 그리기\n",
    "문자열을 이미지에 표시하는 함수는 cv2.putText() 입니다.\n",
    "\n",
    "- cv2.putText(img, text, point, fontFace, fontSize, color[, thickness, lineType])\n",
    "- fontFace: 글꼴\n",
    "    - cv2.FONT_HERSHEY_PLAIN: 산세리프체 작은 글꼴\n",
    "    - cv2.FONT_HERSHEY_SIMPLE: 산세리프체 일반 글꼴\n",
    "    - cv2.FONT_HERSHEY_DUPLEX: 산세리프체 진한 글꼴\n",
    "    - cv2.FONT_HERSHEY_COMPLEX_SMALL: 세리프체 작은 글골\n",
    "    - cv2.FONT_HERSHEY_COMPLEX: 세리프체 일반 글꼴\n",
    "    - cv2.FONT_HERSHEY_TRIPLEX: 세리프체 진한 글꼴\n",
    "\n"
   ],
   "metadata": {
    "collapsed": false,
    "pycharm": {
     "name": "#%% md\n"
    }
   }
  },
  {
   "cell_type": "code",
   "execution_count": 5,
   "outputs": [
    {
     "data": {
      "text/plain": "-1"
     },
     "execution_count": 5,
     "metadata": {},
     "output_type": "execute_result"
    }
   ],
   "source": [
    "# [예제 2-14] 글씨 그리기\n",
    "import cv2\n",
    "img = cv2.imread('../images/blank_500.jpeg')\n",
    "\n",
    "cv2.putText(img, 'Plain', (50, 30), cv2.FONT_HERSHEY_PLAIN, 1, (0, 0, 0))\n",
    "cv2.putText(img, '한글', (50, 130), cv2.FONT_HERSHEY_PLAIN, 1, (0, 0, 0))\n",
    "\n",
    "cv2.imshow('글씨 그리기', img)\n",
    "cv2.waitKey(0)\n",
    "cv2.destroyAllWindows()\n",
    "cv2.waitKey(1)"
   ],
   "metadata": {
    "collapsed": false,
    "pycharm": {
     "name": "#%%\n"
    }
   }
  },
  {
   "cell_type": "code",
   "execution_count": 2,
   "outputs": [
    {
     "data": {
      "text/plain": "-1"
     },
     "execution_count": 2,
     "metadata": {},
     "output_type": "execute_result"
    }
   ],
   "source": [
    "import numpy as np\n",
    "from PIL import ImageFont, ImageDraw, Image\n",
    "import cv2\n",
    "img = np.zeros((200,400,3),np.uint8)\n",
    "b,g,r,a = 255,255,255,0\n",
    "fontpath = \"~/Library/Fonts/D2Coding.ttf\"\n",
    "font = ImageFont.truetype(fontpath, 20)\n",
    "img_pil = Image.fromarray(img)\n",
    "\n",
    "draw = ImageDraw.Draw(img_pil)\n",
    "draw.text((60, 70),  \"한글English123\", font=font, fill=(b,g,r,a))\n",
    "img = np.array(img_pil)\n",
    "cv2.putText(img,  \"한글English123\", (250,120), cv2.FONT_HERSHEY_SIMPLEX, 0.5, (b,g,r), 1, cv2.LINE_AA)\n",
    "cv2.imshow(\"res\", img)\n",
    "cv2.waitKey()\n",
    "cv2.destroyAllWindows()\n",
    "cv2.waitKey(1)"
   ],
   "metadata": {
    "collapsed": false,
    "pycharm": {
     "name": "#%%\n"
    }
   }
  },
  {
   "cell_type": "markdown",
   "source": [
    "![한글폰트 사용하기](../images/font.png)\n",
    "\n"
   ],
   "metadata": {
    "collapsed": false,
    "pycharm": {
     "name": "#%% md\n"
    }
   }
  }
 ],
 "metadata": {
  "kernelspec": {
   "display_name": "Python 3",
   "language": "python",
   "name": "python3"
  },
  "language_info": {
   "codemirror_mode": {
    "name": "ipython",
    "version": 2
   },
   "file_extension": ".py",
   "mimetype": "text/x-python",
   "name": "python",
   "nbconvert_exporter": "python",
   "pygments_lexer": "ipython2",
   "version": "2.7.6"
  }
 },
 "nbformat": 4,
 "nbformat_minor": 0
}