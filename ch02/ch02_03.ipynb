{
 "cells": [
  {
   "cell_type": "markdown",
   "metadata": {
    "collapsed": true,
    "pycharm": {
     "name": "#%% md\n"
    }
   },
   "source": [
    "### 2.2. 그림 그리기\n",
    "그리기 예제를 진행하기 위해서는 그림판 역할을 하는 이미지가 필요하다.\n",
    "그림판은 다음과 같은 코드로 생성할 수 있다.\n"
   ]
  },
  {
   "cell_type": "code",
   "execution_count": 2,
   "outputs": [
    {
     "data": {
      "text/plain": "True"
     },
     "execution_count": 2,
     "metadata": {},
     "output_type": "execute_result"
    }
   ],
   "source": [
    "import cv2\n",
    "import numpy as np\n",
    "\n",
    "img = np.full((500, 500, 3), 255, dtype=np.uint8)\n",
    "cv2.imwrite('../images/blank_500.jpeg', img)\n"
   ],
   "metadata": {
    "collapsed": false,
    "pycharm": {
     "name": "#%%\n"
    }
   }
  },
  {
   "cell_type": "markdown",
   "source": [
    "#### 2.2.1. 직선 그리기\n",
    "이미지에 직선을 그린는 함수는 cv2.line() 입니다.\n",
    "- cv2.line(img, start, end, color [, thickness, lineType]): 직선 그리기\n",
    "    - img: 그림 그릴 대상 이미지\n",
    "    - start: 선 시작 지점 좌표(x, y)\n",
    "    - end: 선 끝 지점 좌표(x, y)\n",
    "    - color: 선 색사야(Blue, Green, Red), 0~255 # 일반적으로 웹에서 사용하는 RGB의 반대\n",
    "    - thickness=1 : 선두께\n",
    "    - lineType: 선그리기 형식\n",
    "        - cv2.LINE_4 : 4개 연결 선 알고리즘\n",
    "        - cv2.LINE_8 : 8개 연결 선 알고리즘\n",
    "        - cv2.,LINE_AA : 안티에일리어싱"
   ],
   "metadata": {
    "collapsed": false,
    "pycharm": {
     "name": "#%% md\n"
    }
   }
  },
  {
   "cell_type": "code",
   "execution_count": null,
   "outputs": [],
   "source": [
    "# [예제 2-10] 다양한 선 그리기 page 39\n",
    "import cv2\n",
    "\n",
    "img = cv2.imread('../images/blank_500.jpeg')\n",
    "\n",
    "cv2.line(img, (50, 50), (150, 50), (255, 0, 0)) # 파란색 1픽셀 선\n",
    "cv2.line(img, (200, 50), (300, 50), (0, 255, 0)) # 파란색 1픽셀 선\n",
    "cv2.line(img, (350, 50), (450, 50), (0, 0, 255)) # 파란색 1픽셀 선\n",
    "\n",
    "\n",
    "# 하늘색\n",
    "cv2.line(img, (100, 100), (400, 100), (255, 255, 0), 10)\n",
    "cv2.line(img, (100, 150), (400, 150), (255, 0, 255), 10)\n",
    "\n",
    "# 4연결선\n",
    "cv2.line(img, (100, 350), (400, 400), (0, 0, 255), 20, cv2.LINE_4)\n",
    "cv2.line(img, (100, 400), (400, 450), (0, 0, 255), 20, cv2.LINE_8)\n",
    "cv2.line(img, (100, 450), (400, 500), (0, 0, 255), 20, cv2.LINE_AA)\n",
    "cv2.imshow('lines', img) # 파란색 1 픽셀 선\n",
    "cv2.imwrite('../images/lines.jpeg', img)\n",
    "cv2.waitKey(0)\n",
    "cv2.destroyAllWindows()\n",
    "cv2.waitKey(1)\n"
   ],
   "metadata": {
    "collapsed": false,
    "pycharm": {
     "name": "#%%\n",
     "is_executing": true
    }
   }
  },
  {
   "cell_type": "markdown",
   "source": [
    "![선 그리기](../images/lines.jpeg)\n"
   ],
   "metadata": {
    "collapsed": false,
    "pycharm": {
     "name": "#%% md\n"
    }
   }
  }
 ],
 "metadata": {
  "kernelspec": {
   "display_name": "Python 3",
   "language": "python",
   "name": "python3"
  },
  "language_info": {
   "codemirror_mode": {
    "name": "ipython",
    "version": 2
   },
   "file_extension": ".py",
   "mimetype": "text/x-python",
   "name": "python",
   "nbconvert_exporter": "python",
   "pygments_lexer": "ipython2",
   "version": "2.7.6"
  }
 },
 "nbformat": 4,
 "nbformat_minor": 0
}