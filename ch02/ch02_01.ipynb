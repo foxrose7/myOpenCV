{
 "cells": [
  {
   "cell_type": "markdown",
   "metadata": {
    "collapsed": true,
    "pycharm": {
     "name": "#%% md\n"
    }
   },
   "source": [
    "## 2장 기본 입출력\n",
    "- OpenCV 로 영상을 읽고 쓰는 방법과 마우스 키보드 이벤트를 처리하는 방법,\n",
    "그리고 여러가지 선과 도형을 그리는 방법을 살펴본다.\n",
    "\n",
    "### 2.1. 이미지와 비디오 입출력\n",
    "\n",
    "#### 2.1.1. 이미지 읽기\n",
    "- OpenCV를 사용해서 이미지를 읽고 화면에 표시하는 가장 간단한 코드는\n",
    "다음과 같다."
   ]
  },
  {
   "cell_type": "code",
   "execution_count": 7,
   "outputs": [],
   "source": [
    "import cv2\n",
    "\n",
    "img_file = '../images/girl.jpeg' # 표시할 이미지 경로  --1)\n",
    "img = cv2.imread(img_file) # 이미지를 읽어서 img 변수에 할당  --2)\n",
    "\n",
    "if img is not None:\n",
    "    cv2.imshow('IMG', img)  # 읽은 이미지를 화면에 표시 --3)\n",
    "    cv2.waitKey()           # 키가 입력될 때까지 대기 --4)\n",
    "    cv2.destroyAllWindows() # 창 모두 닫기 --5)\n",
    "    cv2.waitKey(1)          # ⭐︎ 윈도우가 종료되지 않는다면 한번 더 써준다. ⭐︎ ⌘⌃␣: 특수문자 입력 --6)\n",
    "else:\n",
    "\n",
    "    print('No image file.')"
   ],
   "metadata": {
    "collapsed": false,
    "pycharm": {
     "name": "#%%\n"
    }
   }
  },
  {
   "cell_type": "markdown",
   "source": [
    "![소녀 사진](../images/girl.jpeg)\n",
    "\n"
   ],
   "metadata": {
    "collapsed": false,
    "pycharm": {
     "name": "#%% md\n"
    }
   }
  },
  {
   "cell_type": "markdown",
   "source": [
    "[예제 2-2] 이미지 파일을 그레이 스케일로 화면에 표시"
   ],
   "metadata": {
    "collapsed": false,
    "pycharm": {
     "name": "#%% md\n"
    }
   }
  },
  {
   "cell_type": "code",
   "execution_count": 2,
   "outputs": [],
   "source": [
    "import cv2\n",
    "img_file = '../images/girl.jpeg'\n",
    "img = cv2.imread(img_file, cv2.IMREAD_GRAYSCALE) # 그래이 스케일로 읽기\n",
    "\n",
    "if img is not None:\n",
    "    cv2.imshow('IMG', img)\n",
    "    cv2.waitKey(0)\n",
    "    cv2.destroyAllWindows()\n",
    "    cv2.waitKey(1)\n",
    "else:\n",
    "    print('No image file.')"
   ],
   "metadata": {
    "collapsed": false,
    "pycharm": {
     "name": "#%%\n"
    }
   }
  },
  {
   "cell_type": "markdown",
   "source": [
    "#### 2.1.2. 이미지 저장하기\n",
    "- OpenCV로 읽어들인 이미지를 다시 파일로 저장하는 함수는 cv2.imwrite() 입니다.\n",
    "- cv2.imwrite(file_path, img): 이미지를 파일로 저장\n",
    "[예제 2-3] 컬러 이미지를 그레이 스케일로 저장"
   ],
   "metadata": {
    "collapsed": false,
    "pycharm": {
     "name": "#%% md\n"
    }
   }
  },
  {
   "cell_type": "code",
   "execution_count": 3,
   "outputs": [
    {
     "data": {
      "text/plain": "-1"
     },
     "execution_count": 3,
     "metadata": {},
     "output_type": "execute_result"
    }
   ],
   "source": [
    "import cv2\n",
    "\n",
    "img_file = '../images/girl.jpeg'\n",
    "save_file = '../images/girl_gray.jpeg'\n",
    "\n",
    "img = cv2.imread(img_file, cv2.IMREAD_GRAYSCALE)\n",
    "cv2.imshow(img_file, img)\n",
    "cv2.imwrite(save_file, img)\n",
    "cv2.waitKey(0)\n",
    "cv2.destroyAllWindows()\n",
    "cv2.waitKey(1)"
   ],
   "metadata": {
    "collapsed": false,
    "pycharm": {
     "name": "#%%\n"
    }
   }
  },
  {
   "cell_type": "markdown",
   "source": [
    "![소녀 사진](../images/girl_gray.jpeg)"
   ],
   "metadata": {
    "collapsed": false
   }
  },
  {
   "cell_type": "markdown",
   "source": [
    "#### 2.1.4. 동영상 파일 읽기\n",
    "[예제 2-4] 동영상 파일을 읽기 위한 간단한 프로그램 입니다."
   ],
   "metadata": {
    "collapsed": false,
    "pycharm": {
     "name": "#%% md\n"
    }
   }
  },
  {
   "cell_type": "code",
   "execution_count": 4,
   "outputs": [
    {
     "data": {
      "text/plain": "-1"
     },
     "execution_count": 4,
     "metadata": {},
     "output_type": "execute_result"
    }
   ],
   "source": [
    "import cv2\n",
    "\n",
    "video_file = '../images/big_buck.avi'\n",
    "\n",
    "cap = cv2.VideoCapture(video_file)\n",
    "if cap.isOpened():\n",
    "    while True:\n",
    "        ret, img = cap.read()\n",
    "        if ret:\n",
    "            cv2.imshow(video_file, img)\n",
    "            cv2.waitKey(25)\n",
    "        else:\n",
    "            break\n",
    "else:\n",
    "    print('can\\'t open video')\n",
    "cap.release()\n",
    "cv2.destroyAllWindows()\n",
    "cv2.waitKey(1)\n"
   ],
   "metadata": {
    "collapsed": false,
    "pycharm": {
     "name": "#%%\n"
    }
   }
  },
  {
   "cell_type": "markdown",
   "source": [
    "#### 2.1.5. 카메라(웹캠) 프레임 읽기\n",
    "- 카메라로 프레임을 읽기 위해서는 cv2.VideoCapture() 함수에 동영상 파일 경로 대신에\n",
    "카메라 장치 인덱스 번호를 정수로 지정해 주면 된다."
   ],
   "metadata": {
    "collapsed": false,
    "pycharm": {
     "name": "#%% md\n"
    }
   }
  },
  {
   "cell_type": "code",
   "execution_count": 5,
   "outputs": [
    {
     "name": "stdout",
     "output_type": "stream",
     "text": [
      "can't open camera.\n"
     ]
    },
    {
     "data": {
      "text/plain": "-1"
     },
     "execution_count": 5,
     "metadata": {},
     "output_type": "execute_result"
    }
   ],
   "source": [
    "import cv2\n",
    "\n",
    "cap = cv2.VideoCapture(0)  # 0번 카메라 장치 연걸 -- 1)\n",
    "if cap.isOpened():\n",
    "    while True:\n",
    "        ret, img = cap.read()\n",
    "        if ret:\n",
    "            cv2.imshow('camera', img)\n",
    "            if cv2.waitKey(1) != -1:\n",
    "                break\n",
    "        else:\n",
    "            print('no frame')\n",
    "else:\n",
    "    print('can\\'t open camera.')\n",
    "cap.release()\n",
    "cv2.destroyAllWindows()\n",
    "cv2.waitKey(1)"
   ],
   "metadata": {
    "collapsed": false,
    "pycharm": {
     "name": "#%%\n"
    }
   }
  },
  {
   "cell_type": "markdown",
   "source": [
    "#### 2.1.7 비디오 파일 저장하기\n",
    "\n",
    "- 특정 프레임만 이미지로 저장하거나, 특정 구간을 동영상 파일로 저장할 수 있다,\n",
    "\n",
    "- 다음 예제는 카메라로부터 프레임을 표시 하다가 아무 키나 누르면 해당 프레임을\n",
    "파일로 저장하는 코드 이다.\n"
   ],
   "metadata": {
    "collapsed": false,
    "pycharm": {
     "name": "#%% md\n"
    }
   }
  },
  {
   "cell_type": "code",
   "execution_count": 8,
   "outputs": [
    {
     "data": {
      "text/plain": "-1"
     },
     "execution_count": 8,
     "metadata": {},
     "output_type": "execute_result"
    }
   ],
   "source": [
    "import cv2\n",
    "\n",
    "cap = cv2.VideoCapture(0)\n",
    "if cap.isOpened():\n",
    "    while True:\n",
    "        ret, frame = cap.read()\n",
    "        if ret:\n",
    "            cv2.imshow('camera', frame) # 프레임 화면 표시\n",
    "            if cv2.waitKey(1) != -1 : # 아무키나 누르면\n",
    "                cv2.imwrite('../images/photo.jpg', frame) # 프레임을 'photo.jpg' 에 저장\n",
    "                break\n",
    "        else:\n",
    "            print('no frame!')\n",
    "            break\n",
    "else:\n",
    "    print('no camera!')\n",
    "cap.release()\n",
    "cv2.destroyAllWindows()\n",
    "cv2.waitKey(1)\n"
   ],
   "metadata": {
    "collapsed": false,
    "pycharm": {
     "name": "#%%\n"
    }
   }
  },
  {
   "cell_type": "markdown",
   "source": [
    "![카메라 저장 사진](../images/photo.jpg)"
   ],
   "metadata": {
    "collapsed": false
   }
  }
 ],
 "metadata": {
  "kernelspec": {
   "display_name": "Python 3",
   "language": "python",
   "name": "python3"
  },
  "language_info": {
   "codemirror_mode": {
    "name": "ipython",
    "version": 2
   },
   "file_extension": ".py",
   "mimetype": "text/x-python",
   "name": "python",
   "nbconvert_exporter": "python",
   "pygments_lexer": "ipython2",
   "version": "2.7.6"
  }
 },
 "nbformat": 4,
 "nbformat_minor": 0
}