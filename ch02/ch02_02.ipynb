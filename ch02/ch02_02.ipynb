{
 "cells": [
  {
   "cell_type": "markdown",
   "metadata": {
    "collapsed": true,
    "pycharm": {
     "name": "#%% md\n"
    }
   },
   "source": [
    "#### 2.1.7. 비디오 파일 저장하기\n",
    "카메라나 동영상파일을 재생하는 중 특정한 프레임만 이미지로 저장하거나\n",
    "특정 구간을 동용상 파일로 저장할 수 있따.\n",
    "\n",
    "하나의 프레임이 아닌 여러 프레임을 동영상으로 저장하려고 하면\n",
    "cv2.WideoWriter()라는 새로운 API가 필요하다.\n",
    "\n",
    "- writer = cv2.VideoWriter(file_path, fourcc, fps, (width, height)) : 비디오 저장 클래스 생성자 함\n"
   ]
  },
  {
   "cell_type": "code",
   "execution_count": 1,
   "outputs": [
    {
     "data": {
      "text/plain": "-1"
     },
     "execution_count": 1,
     "metadata": {},
     "output_type": "execute_result"
    }
   ],
   "source": [
    "# 카메라로 녹화하기\n",
    "\n",
    "import cv2\n",
    "\n",
    "cap = cv2.VideoCapture(0) # 0 번 카메라 연결\n",
    "if cap.isOpened:\n",
    "    file_path  = '../images/record.avi'  # 저장할 파일 경로 --1)\n",
    "    fps = 25.40 #  FPS, 초당 프레임 수\n",
    "    fourcc = cv2.VideoWriter_fourcc(*'DIVX') # 인코딩 포멧문자\n",
    "    width = cap.get(cv2.CAP_PROP_FRAME_WIDTH)\n",
    "    height = cap.get(cv2.CAP_PROP_FRAME_HEIGHT)\n",
    "    size = (int(width), int(height))\n",
    "    out = cv2.VideoWriter(file_path, fourcc, fps, size) # VideoWriter 객체생성\n",
    "    while True:\n",
    "        ret, frame = cap.read()\n",
    "        if ret:\n",
    "            cv2.imshow('camera-recording', frame)\n",
    "            out.write(frame)  # 파일 저장\n",
    "            if cv2.waitKey(int(1000/fps)) != -1:\n",
    "                break\n",
    "        else:\n",
    "            print(\"no frame!\")\n",
    "            break\n",
    "    out.release()  # 파일 닫기\n",
    "else :\n",
    "    print('Cant\\'t open camera')\n",
    "cap.release()\n",
    "cv2.destroyAllWindows()\n",
    "cv2.waitKey(1)\n",
    "\n"
   ],
   "metadata": {
    "collapsed": false,
    "pycharm": {
     "name": "#%%\n"
    }
   }
  }
 ],
 "metadata": {
  "kernelspec": {
   "display_name": "Python 3",
   "language": "python",
   "name": "python3"
  },
  "language_info": {
   "codemirror_mode": {
    "name": "ipython",
    "version": 2
   },
   "file_extension": ".py",
   "mimetype": "text/x-python",
   "name": "python",
   "nbconvert_exporter": "python",
   "pygments_lexer": "ipython2",
   "version": "2.7.6"
  }
 },
 "nbformat": 4,
 "nbformat_minor": 0
}