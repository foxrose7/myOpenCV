{
 "cells": [
  {
   "cell_type": "markdown",
   "metadata": {
    "collapsed": true,
    "pycharm": {
     "name": "#%% md\n"
    }
   },
   "source": [
    "### 2.4. 이벤트 처리\n",
    "#### 2.4.1. 키보드 이벤트\n",
    "- cv2.waitKey(delay) 함수를 쓰면 키보드 입력을 알아낼 수 있다.\n",
    "key = cv2.waitKey(0)\n",
    "print(key)"
   ]
  },
  {
   "cell_type": "code",
   "execution_count": 2,
   "outputs": [],
   "source": [
    "import cv2\n",
    "\n",
    "img_file = '../images/girl.jpeg'\n",
    "img = cv2.imread(img_file)\n",
    "title= 'IMG'\n",
    "x, y = 100, 100\n",
    "\n",
    "while True:\n",
    "    cv2.imshow(title, img)\n",
    "    cv2.moveWindow(title, x, y)\n",
    "    key = cv2.waitKey(0) & 0xFF # 키보드 입력을 무한대기, 8비트 마스크 처리\n",
    "    # print(key, chr(key))        # 키보드 이력값, 문자값 출력\n",
    "\n",
    "    if key == ord('h') :\n",
    "        x -=10\n",
    "    elif key == ord('j'):\n",
    "        y +=10\n",
    "    if key == ord('k') :\n",
    "        y -=10\n",
    "    elif key == ord('l'):\n",
    "        x +=10\n",
    "    elif key == ord('q') or key == 27 : # 'q' 이거나 'esc' 이면 종료\n",
    "        cv2.destroyAllWindows()\n",
    "        cv2.waitKey(1)\n",
    "        break\n",
    "    # cv2.moveWindow(title, x, y) # 새로운 좌표로 이동\n"
   ],
   "metadata": {
    "collapsed": false,
    "pycharm": {
     "name": "#%%\n"
    }
   }
  },
  {
   "cell_type": "markdown",
   "source": [
    "#### 2.4.2. 마우스 이벤트\n",
    "마우스에서 입력을 받으면 이벤트를 처리할 함수를 미리 선언해 놓고\n",
    "cv2.setMouseCallback() 함수에 그 함수를 전달 합니다.\n",
    "\n",
    "def onMouse(event, x, y, flags, param):\n",
    "    # 여기에 마우스 이벤트에 맞게 해야 할 작업을 작성 합니다.\n",
    "   pass\n",
    "\n",
    "cv2.setMouseCallBakc('title', onMouse)\n",
    "\n",
    "- 이 두 함수의 모양은 다음과 같습니다.\n",
    "\n",
    "- cv2.setMoueCallback(win_name, onMouse [, parmam]): onMouse 함수를 등록\n",
    "    - win_name : 이벤트를 등록할 윈도 이름\n",
    "    - onMouse : 이벤트 처리를 위해 미리 선언해 놓은 콜백 함수\n",
    "    - param : 필요에 따라 onMouse 함수에 전달할 인자\n",
    "- MouseCallback(envent, x, y, flag, parma): 콜백 함수 선언부\n",
    "    - cv2.EVENT_MOUSEMOVE:마우스 이동\n",
    "    - cv2.EVENT_LBUTTONDOWN : 왼쪽 버튼 누름\n",
    "    - cv2.EVENT_RBUTTONDOWN : 오른쪽 버튼 누름\n",
    "    - cv2.EVENT_LBUTTONUP : 왼쪽 버튼 땜\n",
    "    - cv2.EVENT_RBUTTONUP : 오른 버튼 땜\n",
    "- flags: 마우스 동작과 함께 일어난 사애, cv2.EVENT_FLAG_ 로 시작하는 상수\n",
    "    - cv2.EVENT_FLAG_LBUTTON(1) : 왼쪽 버튼 누름\n",
    "    - cv2.EVENT_FLAG_RBUTTON(2) : 오른쪽 버튼 누름\n",
    "    - cv2.EVENT_FLAG_MBUTTON(4) : 가운 버튼 누름\n",
    "    - cv2.EVENT_FLAG_CTRLKEY(8) : Ctrl 버튼 누름\n",
    "    - cv2.EVENT_FLAG_SHIFTKEY(16) : Shift 누름\n",
    "    - cv2.EVENT_FLAG_ALTKEY(32) : Alt 키 누름"
   ],
   "metadata": {
    "collapsed": false,
    "pycharm": {
     "name": "#%% md\n"
    }
   }
  },
  {
   "cell_type": "code",
   "execution_count": 3,
   "outputs": [
    {
     "data": {
      "text/plain": "-1"
     },
     "execution_count": 3,
     "metadata": {},
     "output_type": "execute_result"
    }
   ],
   "source": [
    "# [예제 2-17] 마우스 이벤트로 동그라미 그리기\n",
    "import cv2\n",
    "title = 'mouse event'\n",
    "img = cv2.imread('../images/blank_500.jpeg')\n",
    "cv2.imshow(title, img)\n",
    "\n",
    "def onMouse(event, x, y, flags, param): # 함수 내부에서 사용하지 않더라도\n",
    "    # 다섯개의 인자는 모두 선언부에 기재해야 하며, 그렇지 않으면 오류가\n",
    "    # 발생 합니다.\n",
    "    # print(event, x, y, )  # 마우스가 잠깐 눌린 사이에도 매우 많은 이벤트 발생\n",
    "    if event == cv2.EVENT_LBUTTONDOWN:\n",
    "        cv2.circle(img, (x, y), 30, (0, 0, 255), -1)\n",
    "        cv2.imshow(title, img)\n",
    "\n",
    "cv2.setMouseCallback(title, onMouse)\n",
    "\n",
    "while True:\n",
    "    if cv2.waitKey(0) & 0xFF == 27:\n",
    "        break\n",
    "\n",
    "cv2.destroyAllWindows()\n",
    "cv2.waitKey(1)"
   ],
   "metadata": {
    "collapsed": false,
    "pycharm": {
     "name": "#%%\n"
    }
   }
  },
  {
   "cell_type": "markdown",
   "source": [
    "![mouse_event](../images/mouse_event.png)\n",
    "\n",
    "\n"
   ],
   "metadata": {
    "collapsed": false,
    "pycharm": {
     "name": "#%% md\n"
    }
   }
  },
  {
   "cell_type": "code",
   "execution_count": 4,
   "outputs": [
    {
     "data": {
      "text/plain": "-1"
     },
     "execution_count": 4,
     "metadata": {},
     "output_type": "execute_result"
    }
   ],
   "source": [
    "# [예제 2-18] 플래그를 이용한 동그라미 그리기\n",
    "\n",
    "import cv2\n",
    "\n",
    "title = 'mouse event'\n",
    "img =cv2.imread('../images/blank_500.jpeg')\n",
    "cv2.imshow(title, img)\n",
    "\n",
    "colors = {'black':(0, 0, 0),\n",
    "          'red':(0, 0, 255),\n",
    "          'blue':(255, 0, 0),\n",
    "          'green':(0, 255, 0)} # 색상 정의\n",
    "\n",
    "\n",
    "def onMouse(event, x, y, flags, param): # 마우스 콜백 함수 구현\n",
    "    # print(event, x, y, flags) # 파라메터 출력\n",
    "    color = colors['black']\n",
    "    if event == cv2.EVENT_LBUTTONDOWN: # 왼쪽 버튼을 누른 경우\n",
    "        # 컨트롤 키와 시프트 키를 모두 누른 경우\n",
    "        if flags & cv2.EVENT_FLAG_CTRLKEY and flags & cv2.EVENT_FLAG_SHIFTKEY :\n",
    "            color = colors['green']\n",
    "        elif flags & cv2.EVENT_FLAG_SHIFTKEY :\n",
    "            color = colors['blue']\n",
    "        elif flags & cv2.EVENT_FLAG_CTRLKEY :\n",
    "            color = colors['red']\n",
    "\n",
    "        # 지름 30 크기의 검은색 원을 해당 좌표에 그림\n",
    "        cv2.circle(img, (x, y), 30, color, -1) # 마우스 클릭 위치에 원 안쪽을 채워 그림\n",
    "        cv2.imshow(title, img)\n",
    "cv2.setMouseCallback(title, onMouse)\n",
    "\n",
    "while True:\n",
    "    if cv2.waitKey(0) & 0xFF == 27: # exc로 종료\n",
    "        break\n",
    "\n",
    "cv2.destroyAllWindows()\n",
    "cv2.waitKey(1)\n"
   ],
   "metadata": {
    "collapsed": false,
    "pycharm": {
     "name": "#%%\n"
    }
   }
  },
  {
   "cell_type": "markdown",
   "source": [
    "![플래그를 이용한 동그라미 그리기](../images/flag_mouse_event.png)\n",
    "\n",
    "\n"
   ],
   "metadata": {
    "collapsed": false,
    "pycharm": {
     "name": "#%% md\n"
    }
   }
  }
 ],
 "metadata": {
  "kernelspec": {
   "display_name": "Python 3",
   "language": "python",
   "name": "python3"
  },
  "language_info": {
   "codemirror_mode": {
    "name": "ipython",
    "version": 2
   },
   "file_extension": ".py",
   "mimetype": "text/x-python",
   "name": "python",
   "nbconvert_exporter": "python",
   "pygments_lexer": "ipython2",
   "version": "2.7.6"
  }
 },
 "nbformat": 4,
 "nbformat_minor": 0
}